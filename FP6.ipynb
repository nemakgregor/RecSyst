{
 "cells": [
  {
   "cell_type": "code",
   "execution_count": 2,
   "metadata": {},
   "outputs": [
    {
     "name": "stderr",
     "output_type": "stream",
     "text": [
      "C:\\Users\\egor1\\AppData\\Roaming\\Python\\Python39\\site-packages\\lightfm\\_lightfm_fast.py:9: UserWarning: LightFM was compiled without OpenMP support. Only a single thread will be used.\n",
      "  warnings.warn(\n"
     ]
    }
   ],
   "source": [
    "import numpy as np\n",
    "import pandas as pd\n",
    "\n",
    "from tqdm import tqdm\n",
    "\n",
    "from polara import get_movielens_data\n",
    "from polara.preprocessing.dataframes import leave_one_out, reindex\n",
    "\n",
    "from scipy.sparse import csr_matrix\n",
    "\n",
    "from dataprep import transform_indices\n",
    "from evaluation import topn_recommendations\n",
    "\n",
    "import numpy as np\n",
    "from lightfm import LightFM"
   ]
  },
  {
   "cell_type": "code",
   "execution_count": 3,
   "metadata": {},
   "outputs": [],
   "source": [
    "data, genres = get_movielens_data(include_time=True, get_genres=True)"
   ]
  },
  {
   "cell_type": "code",
   "execution_count": 4,
   "metadata": {},
   "outputs": [],
   "source": [
    "data = data.head(10000)"
   ]
  },
  {
   "cell_type": "code",
   "execution_count": 5,
   "metadata": {},
   "outputs": [],
   "source": [
    "genres['genreid'], _ = pd.factorize(genres['genreid'])\n",
    "genres = genres.loc[:, ['movieid','genreid']]"
   ]
  },
  {
   "cell_type": "code",
   "execution_count": 6,
   "metadata": {},
   "outputs": [],
   "source": [
    "training_, holdout_ = leave_one_out(data, target='timestamp', sample_top=True, random_state=0)\n",
    "\n",
    "training = training_.sort_values('userid')\n",
    "holdout = holdout_.sort_values('userid')"
   ]
  },
  {
   "cell_type": "code",
   "execution_count": 7,
   "metadata": {},
   "outputs": [],
   "source": [
    "train_matrix = csr_matrix((training['rating'], (training['userid'], training['movieid'])))\n",
    "holdout_matrix = csr_matrix((holdout['rating'], (holdout['userid'], holdout['movieid'])))"
   ]
  },
  {
   "cell_type": "code",
   "execution_count": 8,
   "metadata": {},
   "outputs": [],
   "source": [
    "lfm_config = dict(\n",
    "    no_components = 60,\n",
    "    loss = 'warp',\n",
    "    max_sampled = 1,\n",
    "    max_epochs = 60,\n",
    "    learning_schedule = 'adagrad',\n",
    "    user_alpha = 1e-3,\n",
    "    item_alpha = 1e-3,\n",
    "    random_state = 7032023\n",
    ")"
   ]
  },
  {
   "cell_type": "code",
   "execution_count": 14,
   "metadata": {},
   "outputs": [],
   "source": [
    "topn = 10\n",
    "trashholds = [24,25,26,27,28,29,30,31,32,33,34,35]\n",
    "# trashholds = [36,37,38,39,40,41,42,43,44,45]\n",
    "user_ratings_count = training.groupby('userid')['rating'].count()\n",
    "res = []"
   ]
  },
  {
   "cell_type": "code",
   "execution_count": 10,
   "metadata": {},
   "outputs": [],
   "source": [
    "def build_lfm_model(config, data, data_description, early_stop_config=None, iterator=None):\n",
    "    # the model\n",
    "    model = LightFM(\n",
    "        no_components = config['no_components'],\n",
    "        loss = config['loss'],\n",
    "        learning_schedule = config['learning_schedule'],\n",
    "        learning_rate = config.get('learning_rate', 0.05), # default as in the docs\n",
    "        user_alpha = config['user_alpha'],\n",
    "        item_alpha = config['item_alpha'],\n",
    "        max_sampled = config['max_sampled'],\n",
    "        random_state = config.get('random_state', None)\n",
    "    )\n",
    "    # early stoppping configuration\n",
    "    es_config = check_early_stop_config(early_stop_config)\n",
    "\n",
    "    # training\n",
    "    if iterator is None:\n",
    "        iterator = lambda x: x\n",
    "    for epoch in iterator(range(config['max_epochs'])):\n",
    "        try:\n",
    "            train_lfm_epoch(epoch, model, data, data_description, es_config)\n",
    "        except StopIteration:\n",
    "            break\n",
    "    return model\n",
    "\n",
    "\n",
    "def check_early_stop_config(early_stop_config):\n",
    "    if early_stop_config is None:\n",
    "        early_stop_config = {}\n",
    "    try:\n",
    "        es_dict = {\n",
    "            'early_stopper': early_stop_config['evaluation_callback'],\n",
    "            'callback_interval': early_stop_config['callback_interval'],\n",
    "            'holdout': early_stop_config['holdout'],\n",
    "            'data_description': early_stop_config['data_description'],\n",
    "            'stop_early': True\n",
    "        }\n",
    "    except KeyError: # config is invalid, doesn't contain required keys\n",
    "        es_dict = {'stop_early': False} # disable early stopping\n",
    "    return es_dict\n",
    "\n",
    "\n",
    "def train_lfm_epoch(\n",
    "    epoch, model, train, data_description, es_config,\n",
    "):\n",
    " \n",
    "    model.fit_partial(\n",
    "        train,\n",
    "        user_features = data_description['user_features'],\n",
    "        item_features = data_description['item_features'],\n",
    "        epochs = 1\n",
    "    )\n",
    "    if not es_config['stop_early']:\n",
    "        return\n",
    "\n",
    "    metrics_check_interval = es_config['callback_interval']\n",
    "    if (epoch+1) % metrics_check_interval == 0:\n",
    "        # evaluate model and raise StopIteration if early stopping condition is met\n",
    "        early_stopper_call = es_config['early_stopper']\n",
    "        early_stopper_call(\n",
    "            epoch,\n",
    "            model,\n",
    "            es_config['holdout'],\n",
    "            es_config['data_description']\n",
    "        )"
   ]
  },
  {
   "cell_type": "code",
   "execution_count": 11,
   "metadata": {},
   "outputs": [],
   "source": [
    "def lightfm_scoring_base(model, data_description, start_users):\n",
    "    dtype = 'i4'\n",
    "    all_users = np.arange(data_description['n_users'], dtype=dtype)\n",
    "    test_items = start_users.astype(dtype)\n",
    "    item_index, user_index = np.meshgrid(test_items, all_users, copy=False)\n",
    "\n",
    "    print(data_description)\n",
    "    \n",
    "    lfm_scores = model.predict(\n",
    "        user_index.ravel(),\n",
    "        item_index.ravel(),\n",
    "        item_features = data_description['item_features'],\n",
    "        user_features = data_description['user_features']\n",
    "    )\n",
    "    scores = lfm_scores.reshape(len(test_items), len(all_users), order='F')\n",
    "\n",
    "    return scores"
   ]
  },
  {
   "cell_type": "code",
   "execution_count": 15,
   "metadata": {},
   "outputs": [
    {
     "name": "stdout",
     "output_type": "stream",
     "text": [
      "10\n",
      "60\n"
     ]
    },
    {
     "name": "stderr",
     "output_type": "stream",
     "text": [
      "100%|██████████| 60/60 [00:00<00:00, 1007.25it/s]"
     ]
    },
    {
     "name": "stdout",
     "output_type": "stream",
     "text": [
      "{'users': 'userid', 'items': 'movieid', 'n_users': 10, 'n_items': 172, 'user_features': None, 'item_features': None}\n"
     ]
    },
    {
     "name": "stderr",
     "output_type": "stream",
     "text": [
      "\n",
      "100%|██████████| 60/60 [07:55<00:00,  7.93s/it]\n"
     ]
    },
    {
     "name": "stdout",
     "output_type": "stream",
     "text": [
      "{'users': 'userid', 'items': 'movieid', 'n_users': 60, 'n_items': 2144, 'user_features': <60x2144 sparse matrix of type '<class 'numpy.float64'>'\n",
      "\twith 128640 stored elements in Compressed Sparse Row format>, 'item_features': <2144x18 sparse matrix of type '<class 'numpy.int64'>'\n",
      "\twith 3978 stored elements in Compressed Sparse Row format>}\n",
      "[[24, 0, 2, 10, 60]]\n",
      "11\n",
      "59\n"
     ]
    },
    {
     "name": "stderr",
     "output_type": "stream",
     "text": [
      "100%|██████████| 60/60 [00:00<00:00, 818.96it/s]"
     ]
    },
    {
     "name": "stdout",
     "output_type": "stream",
     "text": [
      "{'users': 'userid', 'items': 'movieid', 'n_users': 11, 'n_items': 187, 'user_features': None, 'item_features': None}\n"
     ]
    },
    {
     "name": "stderr",
     "output_type": "stream",
     "text": [
      "\n",
      "100%|██████████| 60/60 [07:37<00:00,  7.62s/it]\n"
     ]
    },
    {
     "name": "stdout",
     "output_type": "stream",
     "text": [
      "{'users': 'userid', 'items': 'movieid', 'n_users': 59, 'n_items': 2142, 'user_features': <59x2142 sparse matrix of type '<class 'numpy.float64'>'\n",
      "\twith 126378 stored elements in Compressed Sparse Row format>, 'item_features': <2142x18 sparse matrix of type '<class 'numpy.int64'>'\n",
      "\twith 3975 stored elements in Compressed Sparse Row format>}\n",
      "[[24, 0, 2, 10, 60], [25, 0, 0, 11, 59]]\n",
      "12\n",
      "58\n"
     ]
    },
    {
     "name": "stderr",
     "output_type": "stream",
     "text": [
      "100%|██████████| 60/60 [00:00<00:00, 705.77it/s]"
     ]
    },
    {
     "name": "stdout",
     "output_type": "stream",
     "text": [
      "{'users': 'userid', 'items': 'movieid', 'n_users': 12, 'n_items': 200, 'user_features': None, 'item_features': None}\n"
     ]
    },
    {
     "name": "stderr",
     "output_type": "stream",
     "text": [
      "\n",
      "100%|██████████| 60/60 [07:29<00:00,  7.49s/it]\n"
     ]
    },
    {
     "name": "stdout",
     "output_type": "stream",
     "text": [
      "{'users': 'userid', 'items': 'movieid', 'n_users': 58, 'n_items': 2140, 'user_features': <58x2140 sparse matrix of type '<class 'numpy.float64'>'\n",
      "\twith 124120 stored elements in Compressed Sparse Row format>, 'item_features': <2140x18 sparse matrix of type '<class 'numpy.int64'>'\n",
      "\twith 3972 stored elements in Compressed Sparse Row format>}\n",
      "[[24, 0, 2, 10, 60], [25, 0, 0, 11, 59], [26, 0, 1, 12, 58]]\n",
      "12\n",
      "58\n"
     ]
    },
    {
     "name": "stderr",
     "output_type": "stream",
     "text": [
      "100%|██████████| 60/60 [00:00<00:00, 784.14it/s]\n"
     ]
    },
    {
     "name": "stdout",
     "output_type": "stream",
     "text": [
      "{'users': 'userid', 'items': 'movieid', 'n_users': 12, 'n_items': 200, 'user_features': None, 'item_features': None}\n"
     ]
    },
    {
     "name": "stderr",
     "output_type": "stream",
     "text": [
      "100%|██████████| 60/60 [07:25<00:00,  7.42s/it]\n"
     ]
    },
    {
     "name": "stdout",
     "output_type": "stream",
     "text": [
      "{'users': 'userid', 'items': 'movieid', 'n_users': 58, 'n_items': 2140, 'user_features': <58x2140 sparse matrix of type '<class 'numpy.float64'>'\n",
      "\twith 124120 stored elements in Compressed Sparse Row format>, 'item_features': <2140x18 sparse matrix of type '<class 'numpy.int64'>'\n",
      "\twith 3972 stored elements in Compressed Sparse Row format>}\n",
      "[[24, 0, 2, 10, 60], [25, 0, 0, 11, 59], [26, 0, 1, 12, 58], [27, 0, 1, 12, 58]]\n",
      "12\n",
      "58\n"
     ]
    },
    {
     "name": "stderr",
     "output_type": "stream",
     "text": [
      "100%|██████████| 60/60 [00:00<00:00, 799.70it/s]\n"
     ]
    },
    {
     "name": "stdout",
     "output_type": "stream",
     "text": [
      "{'users': 'userid', 'items': 'movieid', 'n_users': 12, 'n_items': 200, 'user_features': None, 'item_features': None}\n"
     ]
    },
    {
     "name": "stderr",
     "output_type": "stream",
     "text": [
      "100%|██████████| 60/60 [07:27<00:00,  7.46s/it]\n"
     ]
    },
    {
     "name": "stdout",
     "output_type": "stream",
     "text": [
      "{'users': 'userid', 'items': 'movieid', 'n_users': 58, 'n_items': 2140, 'user_features': <58x2140 sparse matrix of type '<class 'numpy.float64'>'\n",
      "\twith 124120 stored elements in Compressed Sparse Row format>, 'item_features': <2140x18 sparse matrix of type '<class 'numpy.int64'>'\n",
      "\twith 3972 stored elements in Compressed Sparse Row format>}\n",
      "[[24, 0, 2, 10, 60], [25, 0, 0, 11, 59], [26, 0, 1, 12, 58], [27, 0, 1, 12, 58], [28, 0, 1, 12, 58]]\n",
      "12\n",
      "58\n"
     ]
    },
    {
     "name": "stderr",
     "output_type": "stream",
     "text": [
      "100%|██████████| 60/60 [00:00<00:00, 736.08it/s]\n"
     ]
    },
    {
     "name": "stdout",
     "output_type": "stream",
     "text": [
      "{'users': 'userid', 'items': 'movieid', 'n_users': 12, 'n_items': 200, 'user_features': None, 'item_features': None}\n"
     ]
    },
    {
     "name": "stderr",
     "output_type": "stream",
     "text": [
      "100%|██████████| 60/60 [07:20<00:00,  7.33s/it]\n"
     ]
    },
    {
     "name": "stdout",
     "output_type": "stream",
     "text": [
      "{'users': 'userid', 'items': 'movieid', 'n_users': 58, 'n_items': 2140, 'user_features': <58x2140 sparse matrix of type '<class 'numpy.float64'>'\n",
      "\twith 124120 stored elements in Compressed Sparse Row format>, 'item_features': <2140x18 sparse matrix of type '<class 'numpy.int64'>'\n",
      "\twith 3972 stored elements in Compressed Sparse Row format>}\n",
      "[[24, 0, 2, 10, 60], [25, 0, 0, 11, 59], [26, 0, 1, 12, 58], [27, 0, 1, 12, 58], [28, 0, 1, 12, 58], [29, 0, 1, 12, 58]]\n",
      "13\n",
      "57\n"
     ]
    },
    {
     "name": "stderr",
     "output_type": "stream",
     "text": [
      "100%|██████████| 60/60 [00:00<00:00, 607.00it/s]\n"
     ]
    },
    {
     "name": "stdout",
     "output_type": "stream",
     "text": [
      "{'users': 'userid', 'items': 'movieid', 'n_users': 13, 'n_items': 217, 'user_features': None, 'item_features': None}\n"
     ]
    },
    {
     "name": "stderr",
     "output_type": "stream",
     "text": [
      "100%|██████████| 60/60 [07:24<00:00,  7.41s/it]\n"
     ]
    },
    {
     "name": "stdout",
     "output_type": "stream",
     "text": [
      "{'users': 'userid', 'items': 'movieid', 'n_users': 57, 'n_items': 2140, 'user_features': <57x2140 sparse matrix of type '<class 'numpy.float64'>'\n",
      "\twith 121980 stored elements in Compressed Sparse Row format>, 'item_features': <2140x18 sparse matrix of type '<class 'numpy.int64'>'\n",
      "\twith 3972 stored elements in Compressed Sparse Row format>}\n",
      "[[24, 0, 2, 10, 60], [25, 0, 0, 11, 59], [26, 0, 1, 12, 58], [27, 0, 1, 12, 58], [28, 0, 1, 12, 58], [29, 0, 1, 12, 58], [30, 0, 1, 13, 57]]\n",
      "13\n",
      "57\n"
     ]
    },
    {
     "name": "stderr",
     "output_type": "stream",
     "text": [
      "100%|██████████| 60/60 [00:00<00:00, 645.13it/s]\n"
     ]
    },
    {
     "name": "stdout",
     "output_type": "stream",
     "text": [
      "{'users': 'userid', 'items': 'movieid', 'n_users': 13, 'n_items': 217, 'user_features': None, 'item_features': None}\n"
     ]
    },
    {
     "name": "stderr",
     "output_type": "stream",
     "text": [
      "100%|██████████| 60/60 [07:20<00:00,  7.35s/it]\n"
     ]
    },
    {
     "name": "stdout",
     "output_type": "stream",
     "text": [
      "{'users': 'userid', 'items': 'movieid', 'n_users': 57, 'n_items': 2140, 'user_features': <57x2140 sparse matrix of type '<class 'numpy.float64'>'\n",
      "\twith 121980 stored elements in Compressed Sparse Row format>, 'item_features': <2140x18 sparse matrix of type '<class 'numpy.int64'>'\n",
      "\twith 3972 stored elements in Compressed Sparse Row format>}\n",
      "[[24, 0, 2, 10, 60], [25, 0, 0, 11, 59], [26, 0, 1, 12, 58], [27, 0, 1, 12, 58], [28, 0, 1, 12, 58], [29, 0, 1, 12, 58], [30, 0, 1, 13, 57], [31, 0, 1, 13, 57]]\n",
      "13\n",
      "57\n"
     ]
    },
    {
     "name": "stderr",
     "output_type": "stream",
     "text": [
      "100%|██████████| 60/60 [00:00<00:00, 658.43it/s]\n"
     ]
    },
    {
     "name": "stdout",
     "output_type": "stream",
     "text": [
      "{'users': 'userid', 'items': 'movieid', 'n_users': 13, 'n_items': 217, 'user_features': None, 'item_features': None}\n"
     ]
    },
    {
     "name": "stderr",
     "output_type": "stream",
     "text": [
      "  3%|▎         | 2/60 [00:22<10:43, 11.09s/it]\n"
     ]
    },
    {
     "ename": "KeyboardInterrupt",
     "evalue": "",
     "output_type": "error",
     "traceback": [
      "\u001b[1;31m---------------------------------------------------------------------------\u001b[0m",
      "\u001b[1;31mKeyboardInterrupt\u001b[0m                         Traceback (most recent call last)",
      "Cell \u001b[1;32mIn[15], line 72\u001b[0m\n\u001b[0;32m     60\u001b[0m warm_rating_matrix \u001b[39m=\u001b[39m csr_matrix(warm_rating_matrix)\n\u001b[0;32m     62\u001b[0m warm_data_description \u001b[39m=\u001b[39m \u001b[39mdict\u001b[39m(\n\u001b[0;32m     63\u001b[0m     users \u001b[39m=\u001b[39m \u001b[39m'\u001b[39m\u001b[39muserid\u001b[39m\u001b[39m'\u001b[39m,\n\u001b[0;32m     64\u001b[0m     items \u001b[39m=\u001b[39m \u001b[39m'\u001b[39m\u001b[39mmovieid\u001b[39m\u001b[39m'\u001b[39m,\n\u001b[1;32m   (...)\u001b[0m\n\u001b[0;32m     69\u001b[0m     item_features \u001b[39m=\u001b[39m warm_genre_matrix \u001b[39m# compound features are not present in the dataset\u001b[39;00m\n\u001b[0;32m     70\u001b[0m )\n\u001b[1;32m---> 72\u001b[0m warm_model \u001b[39m=\u001b[39m build_lfm_model(\n\u001b[0;32m     73\u001b[0m     lfm_config,\n\u001b[0;32m     74\u001b[0m     warm_rating_matrix,\n\u001b[0;32m     75\u001b[0m     warm_data_description,\n\u001b[0;32m     76\u001b[0m     iterator \u001b[39m=\u001b[39;49m tqdm\n\u001b[0;32m     77\u001b[0m )\n\u001b[0;32m     79\u001b[0m warm_scores \u001b[39m=\u001b[39m lightfm_scoring_base(warm_model, warm_data_description, warm_start_users)\n\u001b[0;32m     80\u001b[0m warm_recs \u001b[39m=\u001b[39m topn_recommendations(warm_scores, topn\u001b[39m=\u001b[39mtopn)\n",
      "Cell \u001b[1;32mIn[10], line 21\u001b[0m, in \u001b[0;36mbuild_lfm_model\u001b[1;34m(config, data, data_description, early_stop_config, iterator)\u001b[0m\n\u001b[0;32m     19\u001b[0m \u001b[39mfor\u001b[39;00m epoch \u001b[39min\u001b[39;00m iterator(\u001b[39mrange\u001b[39m(config[\u001b[39m'\u001b[39m\u001b[39mmax_epochs\u001b[39m\u001b[39m'\u001b[39m])):\n\u001b[0;32m     20\u001b[0m     \u001b[39mtry\u001b[39;00m:\n\u001b[1;32m---> 21\u001b[0m         train_lfm_epoch(epoch, model, data, data_description, es_config)\n\u001b[0;32m     22\u001b[0m     \u001b[39mexcept\u001b[39;00m \u001b[39mStopIteration\u001b[39;00m:\n\u001b[0;32m     23\u001b[0m         \u001b[39mbreak\u001b[39;00m\n",
      "Cell \u001b[1;32mIn[10], line 47\u001b[0m, in \u001b[0;36mtrain_lfm_epoch\u001b[1;34m(epoch, model, train, data_description, es_config)\u001b[0m\n\u001b[0;32m     43\u001b[0m \u001b[39mdef\u001b[39;00m \u001b[39mtrain_lfm_epoch\u001b[39m(\n\u001b[0;32m     44\u001b[0m     epoch, model, train, data_description, es_config,\n\u001b[0;32m     45\u001b[0m ):\n\u001b[1;32m---> 47\u001b[0m     model\u001b[39m.\u001b[39;49mfit_partial(\n\u001b[0;32m     48\u001b[0m         train,\n\u001b[0;32m     49\u001b[0m         user_features \u001b[39m=\u001b[39;49m data_description[\u001b[39m'\u001b[39;49m\u001b[39muser_features\u001b[39;49m\u001b[39m'\u001b[39;49m],\n\u001b[0;32m     50\u001b[0m         item_features \u001b[39m=\u001b[39;49m data_description[\u001b[39m'\u001b[39;49m\u001b[39mitem_features\u001b[39;49m\u001b[39m'\u001b[39;49m],\n\u001b[0;32m     51\u001b[0m         epochs \u001b[39m=\u001b[39;49m \u001b[39m1\u001b[39;49m\n\u001b[0;32m     52\u001b[0m     )\n\u001b[0;32m     53\u001b[0m     \u001b[39mif\u001b[39;00m \u001b[39mnot\u001b[39;00m es_config[\u001b[39m'\u001b[39m\u001b[39mstop_early\u001b[39m\u001b[39m'\u001b[39m]:\n\u001b[0;32m     54\u001b[0m         \u001b[39mreturn\u001b[39;00m\n",
      "File \u001b[1;32m~\\AppData\\Roaming\\Python\\Python39\\site-packages\\lightfm\\lightfm.py:638\u001b[0m, in \u001b[0;36mLightFM.fit_partial\u001b[1;34m(self, interactions, user_features, item_features, sample_weight, epochs, num_threads, verbose)\u001b[0m\n\u001b[0;32m    635\u001b[0m     \u001b[39mraise\u001b[39;00m \u001b[39mValueError\u001b[39;00m(\u001b[39m\"\u001b[39m\u001b[39mNumber of threads must be 1 or larger.\u001b[39m\u001b[39m\"\u001b[39m)\n\u001b[0;32m    637\u001b[0m \u001b[39mfor\u001b[39;00m _ \u001b[39min\u001b[39;00m \u001b[39mself\u001b[39m\u001b[39m.\u001b[39m_progress(epochs, verbose\u001b[39m=\u001b[39mverbose):\n\u001b[1;32m--> 638\u001b[0m     \u001b[39mself\u001b[39;49m\u001b[39m.\u001b[39;49m_run_epoch(\n\u001b[0;32m    639\u001b[0m         item_features,\n\u001b[0;32m    640\u001b[0m         user_features,\n\u001b[0;32m    641\u001b[0m         interactions,\n\u001b[0;32m    642\u001b[0m         sample_weight_data,\n\u001b[0;32m    643\u001b[0m         num_threads,\n\u001b[0;32m    644\u001b[0m         \u001b[39mself\u001b[39;49m\u001b[39m.\u001b[39;49mloss,\n\u001b[0;32m    645\u001b[0m     )\n\u001b[0;32m    647\u001b[0m     \u001b[39mself\u001b[39m\u001b[39m.\u001b[39m_check_finite()\n\u001b[0;32m    649\u001b[0m \u001b[39mreturn\u001b[39;00m \u001b[39mself\u001b[39m\n",
      "File \u001b[1;32m~\\AppData\\Roaming\\Python\\Python39\\site-packages\\lightfm\\lightfm.py:679\u001b[0m, in \u001b[0;36mLightFM._run_epoch\u001b[1;34m(self, item_features, user_features, interactions, sample_weight, num_threads, loss)\u001b[0m\n\u001b[0;32m    677\u001b[0m \u001b[39m# Call the estimation routines.\u001b[39;00m\n\u001b[0;32m    678\u001b[0m \u001b[39mif\u001b[39;00m loss \u001b[39m==\u001b[39m \u001b[39m\"\u001b[39m\u001b[39mwarp\u001b[39m\u001b[39m\"\u001b[39m:\n\u001b[1;32m--> 679\u001b[0m     fit_warp(\n\u001b[0;32m    680\u001b[0m         CSRMatrix(item_features),\n\u001b[0;32m    681\u001b[0m         CSRMatrix(user_features),\n\u001b[0;32m    682\u001b[0m         positives_lookup,\n\u001b[0;32m    683\u001b[0m         interactions\u001b[39m.\u001b[39;49mrow,\n\u001b[0;32m    684\u001b[0m         interactions\u001b[39m.\u001b[39;49mcol,\n\u001b[0;32m    685\u001b[0m         interactions\u001b[39m.\u001b[39;49mdata,\n\u001b[0;32m    686\u001b[0m         sample_weight,\n\u001b[0;32m    687\u001b[0m         shuffle_indices,\n\u001b[0;32m    688\u001b[0m         lightfm_data,\n\u001b[0;32m    689\u001b[0m         \u001b[39mself\u001b[39;49m\u001b[39m.\u001b[39;49mlearning_rate,\n\u001b[0;32m    690\u001b[0m         \u001b[39mself\u001b[39;49m\u001b[39m.\u001b[39;49mitem_alpha,\n\u001b[0;32m    691\u001b[0m         \u001b[39mself\u001b[39;49m\u001b[39m.\u001b[39;49muser_alpha,\n\u001b[0;32m    692\u001b[0m         num_threads,\n\u001b[0;32m    693\u001b[0m         \u001b[39mself\u001b[39;49m\u001b[39m.\u001b[39;49mrandom_state,\n\u001b[0;32m    694\u001b[0m     )\n\u001b[0;32m    695\u001b[0m \u001b[39melif\u001b[39;00m loss \u001b[39m==\u001b[39m \u001b[39m\"\u001b[39m\u001b[39mbpr\u001b[39m\u001b[39m\"\u001b[39m:\n\u001b[0;32m    696\u001b[0m     fit_bpr(\n\u001b[0;32m    697\u001b[0m         CSRMatrix(item_features),\n\u001b[0;32m    698\u001b[0m         CSRMatrix(user_features),\n\u001b[1;32m   (...)\u001b[0m\n\u001b[0;32m    710\u001b[0m         \u001b[39mself\u001b[39m\u001b[39m.\u001b[39mrandom_state,\n\u001b[0;32m    711\u001b[0m     )\n",
      "\u001b[1;31mKeyboardInterrupt\u001b[0m: "
     ]
    }
   ],
   "source": [
    "for warm_start_threshold in trashholds:\n",
    "    cold_start_users = user_ratings_count[user_ratings_count <= warm_start_threshold].index\n",
    "    warm_start_users = user_ratings_count[user_ratings_count > warm_start_threshold].index  \n",
    "\n",
    "    print(cold_start_users.shape[0])\n",
    "    print(warm_start_users.shape[0])\n",
    "\n",
    "    if cold_start_users.shape[0]*warm_start_users.shape[0] > 0:\n",
    "\n",
    "        cold_training = training[training['userid'].isin(cold_start_users)]\n",
    "\n",
    "        cold_common_ids = set(cold_training['movieid']) & set(genres['movieid'])\n",
    "        cold_genres = genres[genres['movieid'].isin(cold_common_ids)]\n",
    "        cold_training = cold_training[cold_training['movieid'].isin(cold_common_ids)]\n",
    "\n",
    "        cold_genre_matrix = pd.crosstab(cold_genres.movieid, cold_genres.genreid)\n",
    "        cold_movie_id = cold_genre_matrix.copy()\n",
    "        cold_genre_matrix = csr_matrix(cold_genre_matrix)\n",
    "\n",
    "        cold_movie_id = cold_movie_id.index\n",
    "\n",
    "        cold_rating_matrix = pd.pivot_table(data = cold_training, values='rating', index='userid', columns='movieid', fill_value=2.5)\n",
    "        cold_rating_matrix = csr_matrix(cold_rating_matrix)\n",
    "\n",
    "        cold_data_description = dict(\n",
    "            users = 'userid',\n",
    "            items = 'movieid',\n",
    "            n_users = len(cold_start_users),\n",
    "            n_items = cold_genre_matrix.shape[0],\n",
    "            #user_features = cold_rating_matrix,\n",
    "            user_features = None,\n",
    "            # item_features = cold_genre_matrix\n",
    "            item_features = None\n",
    "        )\n",
    "        \n",
    "        cold_model = build_lfm_model(\n",
    "            lfm_config,\n",
    "            cold_rating_matrix,\n",
    "            cold_data_description,\n",
    "            iterator = tqdm\n",
    "        )\n",
    "\n",
    "        cold_scores = lightfm_scoring_base(cold_model, cold_data_description, cold_start_users)\n",
    "        cold_recs = topn_recommendations(cold_scores, topn=topn)\n",
    "\n",
    "        warm_training = training[training['userid'].isin(warm_start_users)]\n",
    "        warm_common_ids = set(warm_training['movieid']) & set(genres['movieid'])\n",
    "        warm_genres = genres[genres['movieid'].isin(warm_common_ids)]\n",
    "\n",
    "\n",
    "        warm_training = warm_training[warm_training['movieid'].isin(warm_common_ids)]\n",
    "\n",
    "        warm_genre_matrix = pd.crosstab(warm_genres.movieid, warm_genres.genreid)\n",
    "        warm_movie_id = warm_genre_matrix.copy()\n",
    "\n",
    "        warm_genre_matrix = csr_matrix(warm_genre_matrix)\n",
    "        warm_movie_id = warm_movie_id.index\n",
    "\n",
    "        warm_rating_matrix = pd.pivot_table(data = warm_training, values='rating', index='userid', columns='movieid', fill_value=2.5)\n",
    "        warm_rating_matrix = csr_matrix(warm_rating_matrix)\n",
    "\n",
    "        warm_data_description = dict(\n",
    "            users = 'userid',\n",
    "            items = 'movieid',\n",
    "            n_users = len(warm_start_users),\n",
    "            n_items = warm_genre_matrix.shape[0],\n",
    "            user_features = warm_rating_matrix,\n",
    "            # user_features = None,\n",
    "            item_features = warm_genre_matrix # compound features are not present in the dataset\n",
    "        )\n",
    "        \n",
    "        warm_model = build_lfm_model(\n",
    "            lfm_config,\n",
    "            warm_rating_matrix,\n",
    "            warm_data_description,\n",
    "            iterator = tqdm\n",
    "        )\n",
    "\n",
    "        warm_scores = lightfm_scoring_base(warm_model, warm_data_description, warm_start_users)\n",
    "        warm_recs = topn_recommendations(warm_scores, topn=topn)\n",
    "\n",
    "        cold_holdout = holdout[holdout.userid.isin(cold_start_users)]\n",
    "        warm_holdout = holdout[holdout.userid.isin(warm_start_users)]\n",
    "\n",
    "        cold_coin = 0\n",
    "        for i in range(0, len(cold_start_users)):\n",
    "            # print(i)\n",
    "            # cold_holdout.movieid.iloc[i]\n",
    "            if cold_holdout.movieid.iloc[i] in cold_movie_id[cold_recs[i,:]]:\n",
    "                cold_coin += 1\n",
    "\n",
    "        warm_coin = 0\n",
    "        for i in range(0, len(warm_start_users)):\n",
    "            # print(i)|\n",
    "            # cold_holdout.movieid.iloc[i]\n",
    "            if warm_holdout.movieid.iloc[i] in warm_movie_id[warm_recs[i,:]]:\n",
    "                warm_coin += 1\n",
    "\n",
    "        res.append([warm_start_threshold, cold_coin, warm_coin, cold_start_users.shape[0], warm_start_users.shape[0]])\n",
    "\n",
    "    print(res)"
   ]
  },
  {
   "cell_type": "code",
   "execution_count": 13,
   "metadata": {},
   "outputs": [
    {
     "name": "stdout",
     "output_type": "stream",
     "text": [
      "[[36, 0, 1], [37, 0, 1], [38, 0, 1], [39, 0, 1], [40, 0, 0], [41, 0, 0], [42, 1, 2], [43, 1, 2], [44, 1, 2], [45, 1, 2]]\n"
     ]
    }
   ],
   "source": [
    "print(res)"
   ]
  },
  {
   "cell_type": "code",
   "execution_count": null,
   "metadata": {},
   "outputs": [],
   "source": []
  }
 ],
 "metadata": {
  "kernelspec": {
   "display_name": "Python 3",
   "language": "python",
   "name": "python3"
  },
  "language_info": {
   "codemirror_mode": {
    "name": "ipython",
    "version": 3
   },
   "file_extension": ".py",
   "mimetype": "text/x-python",
   "name": "python",
   "nbconvert_exporter": "python",
   "pygments_lexer": "ipython3",
   "version": "3.9.1"
  },
  "orig_nbformat": 4
 },
 "nbformat": 4,
 "nbformat_minor": 2
}
